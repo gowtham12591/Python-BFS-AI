{
 "cells": [
  {
   "cell_type": "code",
   "execution_count": 41,
   "metadata": {},
   "outputs": [],
   "source": [
    "# Importing necessary libraries\n",
    "import pandas as pd"
   ]
  },
  {
   "cell_type": "code",
   "execution_count": 42,
   "metadata": {},
   "outputs": [
    {
     "data": {
      "text/html": [
       "<div>\n",
       "<style scoped>\n",
       "    .dataframe tbody tr th:only-of-type {\n",
       "        vertical-align: middle;\n",
       "    }\n",
       "\n",
       "    .dataframe tbody tr th {\n",
       "        vertical-align: top;\n",
       "    }\n",
       "\n",
       "    .dataframe thead th {\n",
       "        text-align: right;\n",
       "    }\n",
       "</style>\n",
       "<table border=\"1\" class=\"dataframe\">\n",
       "  <thead>\n",
       "    <tr style=\"text-align: right;\">\n",
       "      <th></th>\n",
       "      <th>Duration</th>\n",
       "    </tr>\n",
       "  </thead>\n",
       "  <tbody>\n",
       "    <tr>\n",
       "      <th>15</th>\n",
       "      <td>15        60  '2020/12/15'     98       123 ...</td>\n",
       "    </tr>\n",
       "    <tr>\n",
       "      <th>7</th>\n",
       "      <td>7        450  '2020/12/08'    104       134 ...</td>\n",
       "    </tr>\n",
       "    <tr>\n",
       "      <th>9</th>\n",
       "      <td>9         60  '2020/12/10'     98       124 ...</td>\n",
       "    </tr>\n",
       "    <tr>\n",
       "      <th>31</th>\n",
       "      <td>31        60  '2020/12/31'     92       115 ...</td>\n",
       "    </tr>\n",
       "    <tr>\n",
       "      <th>3</th>\n",
       "      <td>3         45  '2020/12/04'    109       175 ...</td>\n",
       "    </tr>\n",
       "  </tbody>\n",
       "</table>\n",
       "</div>"
      ],
      "text/plain": [
       "                                             Duration\n",
       "15    15        60  '2020/12/15'     98       123 ...\n",
       "7     7        450  '2020/12/08'    104       134 ...\n",
       "9     9         60  '2020/12/10'     98       124 ...\n",
       "31    31        60  '2020/12/31'     92       115 ...\n",
       "3     3         45  '2020/12/04'    109       175 ..."
      ]
     },
     "execution_count": 42,
     "metadata": {},
     "output_type": "execute_result"
    }
   ],
   "source": [
    "# Reading the dataset\n",
    "df = pd.read_csv('data1.csv')\n",
    "df.sample(5)"
   ]
  },
  {
   "cell_type": "code",
   "execution_count": 43,
   "metadata": {},
   "outputs": [
    {
     "name": "stdout",
     "output_type": "stream",
     "text": [
      "['', '', '0', '', '', '', '', '', '', '', '', '60', '', \"'2020/12/01'\", '', '', '', '110', '', '', '', '', '', '', '130', '', '', '', '', '409.1']\n",
      "['', '', '1', '', '', '', '', '', '', '', '', '60', '', \"'2020/12/02'\", '', '', '', '117', '', '', '', '', '', '', '145', '', '', '', '', '479.0']\n",
      "['', '', '2', '', '', '', '', '', '', '', '', '60', '', \"'2020/12/03'\", '', '', '', '103', '', '', '', '', '', '', '135', '', '', '', '', '340.0']\n",
      "['', '', '3', '', '', '', '', '', '', '', '', '45', '', \"'2020/12/04'\", '', '', '', '109', '', '', '', '', '', '', '175', '', '', '', '', '282.4']\n",
      "['', '', '4', '', '', '', '', '', '', '', '', '45', '', \"'2020/12/05'\", '', '', '', '117', '', '', '', '', '', '', '148', '', '', '', '', '406.0']\n",
      "['', '', '5', '', '', '', '', '', '', '', '', '60', '', \"'2020/12/06'\", '', '', '', '102', '', '', '', '', '', '', '127', '', '', '', '', '300.0']\n",
      "['', '', '6', '', '', '', '', '', '', '', '', '60', '', \"'2020/12/07'\", '', '', '', '110', '', '', '', '', '', '', '136', '', '', '', '', '374.0']\n",
      "['', '', '7', '', '', '', '', '', '', '', '450', '', \"'2020/12/08'\", '', '', '', '104', '', '', '', '', '', '', '134', '', '', '', '', '253.3']\n",
      "['', '', '8', '', '', '', '', '', '', '', '', '30', '', \"'2020/12/09'\", '', '', '', '109', '', '', '', '', '', '', '133', '', '', '', '', '195.1']\n",
      "['', '', '9', '', '', '', '', '', '', '', '', '60', '', \"'2020/12/10'\", '', '', '', '', '98', '', '', '', '', '', '', '124', '', '', '', '', '269.0']\n",
      "['', '', '10', '', '', '', '', '', '', '', '60', '', \"'2020/12/11'\", '', '', '', '103', '', '', '', '', '', '', '147', '', '', '', '', '329.3']\n",
      "['', '', '11', '', '', '', '', '', '', '', '60', '', \"'2020/12/12'\", '', '', '', '100', '', '', '', '', '', '', '120', '', '', '', '', '250.7']\n",
      "['', '', '12', '', '', '', '', '', '', '', '60', '', \"'2020/12/12'\", '', '', '', '100', '', '', '', '', '', '', '120', '', '', '', '', '250.7']\n",
      "['', '', '13', '', '', '', '', '', '', '', '60', '', \"'2020/12/13'\", '', '', '', '106', '', '', '', '', '', '', '128', '', '', '', '', '345.3']\n",
      "['', '', '14', '', '', '', '', '', '', '', '60', '', \"'2020/12/14'\", '', '', '', '104', '', '', '', '', '', '', '132', '', '', '', '', '379.3']\n",
      "['', '', '15', '', '', '', '', '', '', '', '60', '', \"'2020/12/15'\", '', '', '', '', '98', '', '', '', '', '', '', '123', '', '', '', '', '275.0']\n",
      "['', '', '16', '', '', '', '', '', '', '', '60', '', \"'2020/12/16'\", '', '', '', '', '98', '', '', '', '', '', '', '120', '', '', '', '', '215.2']\n",
      "['', '', '17', '', '', '', '', '', '', '', '60', '', \"'2020/12/17'\", '', '', '', '100', '', '', '', '', '', '', '120', '', '', '', '', '300.0']\n",
      "['', '', '18', '', '', '', '', '', '', '', '45', '', \"'2020/12/18'\", '', '', '', '', '90', '', '', '', '', '', '', '112', '', '', '', '', '', '', 'NaN']\n",
      "['', '', '19', '', '', '', '', '', '', '', '60', '', \"'2020/12/19'\", '', '', '', '103', '', '', '', '', '', '', '123', '', '', '', '', '323.0']\n",
      "['', '', '20', '', '', '', '', '', '', '', '45', '', \"'2020/12/20'\", '', '', '', '', '97', '', '', '', '', '', '', '125', '', '', '', '', '243.0']\n",
      "['', '', '21', '', '', '', '', '', '', '', '60', '', \"'2020/12/21'\", '', '', '', '108', '', '', '', '', '', '', '131', '', '', '', '', '364.2']\n",
      "['', '', '22', '', '', '', '', '', '', '', '45', '', '', '', '', '', '', '', '', '', '', 'NaN', '', '', '', '100', '', '', '', '', '', '', '119', '', '', '', '', '282.0']\n",
      "['', '', '23', '', '', '', '', '', '', '', '60', '', \"'2020/12/23'\", '', '', '', '130', '', '', '', '', '', '', '101', '', '', '', '', '300.0']\n",
      "['', '', '24', '', '', '', '', '', '', '', '45', '', \"'2020/12/24'\", '', '', '', '105', '', '', '', '', '', '', '132', '', '', '', '', '246.0']\n",
      "['', '', '25', '', '', '', '', '', '', '', '60', '', \"'2020/12/25'\", '', '', '', '102', '', '', '', '', '', '', '126', '', '', '', '', '334.5']\n",
      "['', '', '26', '', '', '', '', '', '', '', '60', '', '', '', '', '', '20201226', '', '', '', '100', '', '', '', '', '', '', '120', '', '', '', '', '250.0']\n",
      "['', '', '27', '', '', '', '', '', '', '', '60', '', \"'2020/12/27'\", '', '', '', '', '92', '', '', '', '', '', '', '118', '', '', '', '', '241.0']\n",
      "['', '', '28', '', '', '', '', '', '', '', '60', '', \"'2020/12/28'\", '', '', '', '103', '', '', '', '', '', '', '132', '', '', '', '', '', '', 'NaN']\n",
      "['', '', '29', '', '', '', '', '', '', '', '60', '', \"'2020/12/29'\", '', '', '', '100', '', '', '', '', '', '', '132', '', '', '', '', '280.0']\n",
      "['', '', '30', '', '', '', '', '', '', '', '60', '', \"'2020/12/30'\", '', '', '', '102', '', '', '', '', '', '', '129', '', '', '', '', '380.3']\n",
      "['', '', '31', '', '', '', '', '', '', '', '60', '', \"'2020/12/31'\", '', '', '', '', '92', '', '', '', '', '', '', '115', '', '', '', '', '243.0']\n"
     ]
    }
   ],
   "source": [
    "# Checking whether we have proper spaces in the duration column\n",
    "for i in df['Duration']:\n",
    "    a = i.split(' ')\n",
    "    print(a)"
   ]
  },
  {
   "cell_type": "code",
   "execution_count": 44,
   "metadata": {},
   "outputs": [
    {
     "name": "stdout",
     "output_type": "stream",
     "text": [
      "<class 'pandas.core.frame.DataFrame'>\n",
      "RangeIndex: 32 entries, 0 to 31\n",
      "Data columns (total 1 columns):\n",
      " #   Column    Non-Null Count  Dtype \n",
      "---  ------    --------------  ----- \n",
      " 0   Duration  32 non-null     object\n",
      "dtypes: object(1)\n",
      "memory usage: 388.0+ bytes\n"
     ]
    }
   ],
   "source": [
    "# Checking the information of the columns (datatypes and the missing values)\n",
    "df.info()"
   ]
  },
  {
   "cell_type": "markdown",
   "metadata": {},
   "source": [
    "- The dataframe has to be cleaned by removing the spaces and split it to multiple columns with proper names for the columns"
   ]
  },
  {
   "cell_type": "code",
   "execution_count": 45,
   "metadata": {},
   "outputs": [
    {
     "name": "stdout",
     "output_type": "stream",
     "text": [
      "   Duration          Date Pulse Maxpulse Calories\n",
      "0        60  '2020/12/01'   110      130    409.1\n",
      "1        60  '2020/12/02'   117      145    479.0\n",
      "2        60  '2020/12/03'   103      135    340.0\n",
      "3        45  '2020/12/04'   109      175    282.4\n",
      "4        45  '2020/12/05'   117      148    406.0\n",
      "5        60  '2020/12/06'   102      127    300.0\n",
      "6        60  '2020/12/07'   110      136    374.0\n",
      "7       450  '2020/12/08'   104      134    253.3\n",
      "8        30  '2020/12/09'   109      133    195.1\n",
      "9        60  '2020/12/10'    98      124    269.0\n",
      "10       60  '2020/12/11'   103      147    329.3\n",
      "11       60  '2020/12/12'   100      120    250.7\n",
      "12       60  '2020/12/12'   100      120    250.7\n",
      "13       60  '2020/12/13'   106      128    345.3\n",
      "14       60  '2020/12/14'   104      132    379.3\n",
      "15       60  '2020/12/15'    98      123    275.0\n",
      "16       60  '2020/12/16'    98      120    215.2\n",
      "17       60  '2020/12/17'   100      120    300.0\n",
      "18       45  '2020/12/18'    90      112      NaN\n",
      "19       60  '2020/12/19'   103      123    323.0\n",
      "20       45  '2020/12/20'    97      125    243.0\n",
      "21       60  '2020/12/21'   108      131    364.2\n",
      "22       45           NaN   100      119    282.0\n",
      "23       60  '2020/12/23'   130      101    300.0\n",
      "24       45  '2020/12/24'   105      132    246.0\n",
      "25       60  '2020/12/25'   102      126    334.5\n",
      "26       60      20201226   100      120    250.0\n",
      "27       60  '2020/12/27'    92      118    241.0\n",
      "28       60  '2020/12/28'   103      132      NaN\n",
      "29       60  '2020/12/29'   100      132    280.0\n",
      "30       60  '2020/12/30'   102      129    380.3\n",
      "31       60  '2020/12/31'    92      115    243.0\n"
     ]
    }
   ],
   "source": [
    "# Clean up the spaces and split the 'Duration' column\n",
    "split_columns = df['Duration'].str.split(r'\\s+', expand=True)\n",
    "\n",
    "# Assign new column names\n",
    "split_columns.columns = ['Index0', 'Index1', 'Duration', 'Date', 'Pulse', 'Maxpulse', 'Calories']\n",
    "\n",
    "# Drop the original 'Duration' column and concatenate the new columns\n",
    "df = df.drop(columns=['Duration']).join(split_columns)\n",
    "\n",
    "df.drop(columns=['Index0', 'Index1'], inplace=True, axis=1)\n",
    "\n",
    "df.to_csv('data/data.csv', index=False)\n",
    "\n",
    "print(df)"
   ]
  },
  {
   "cell_type": "code",
   "execution_count": 46,
   "metadata": {},
   "outputs": [
    {
     "name": "stdout",
     "output_type": "stream",
     "text": [
      "<class 'pandas.core.frame.DataFrame'>\n",
      "RangeIndex: 32 entries, 0 to 31\n",
      "Data columns (total 5 columns):\n",
      " #   Column    Non-Null Count  Dtype \n",
      "---  ------    --------------  ----- \n",
      " 0   Duration  32 non-null     object\n",
      " 1   Date      32 non-null     object\n",
      " 2   Pulse     32 non-null     object\n",
      " 3   Maxpulse  32 non-null     object\n",
      " 4   Calories  32 non-null     object\n",
      "dtypes: object(5)\n",
      "memory usage: 1.4+ KB\n"
     ]
    }
   ],
   "source": [
    "df.info()"
   ]
  },
  {
   "cell_type": "code",
   "execution_count": 47,
   "metadata": {},
   "outputs": [
    {
     "name": "stdout",
     "output_type": "stream",
     "text": [
      "<class 'pandas.core.frame.DataFrame'>\n",
      "RangeIndex: 32 entries, 0 to 31\n",
      "Data columns (total 5 columns):\n",
      " #   Column    Non-Null Count  Dtype         \n",
      "---  ------    --------------  -----         \n",
      " 0   Duration  32 non-null     int64         \n",
      " 1   Date      31 non-null     datetime64[ns]\n",
      " 2   Pulse     32 non-null     int64         \n",
      " 3   Maxpulse  32 non-null     int64         \n",
      " 4   Calories  30 non-null     float64       \n",
      "dtypes: datetime64[ns](1), float64(1), int64(3)\n",
      "memory usage: 1.4 KB\n"
     ]
    }
   ],
   "source": [
    "# Converting the data types from object to its respective types\n",
    "\n",
    "df['Date'] = pd.to_datetime(df['Date'], format='mixed')\n",
    "df['Duration'] = df['Duration'].astype('int')\n",
    "df['Pulse'] = df['Pulse'].astype('int')\n",
    "df['Maxpulse'] = df['Maxpulse'].astype('int')\n",
    "df['Calories'] = df['Calories'].astype('float')\n",
    "\n",
    "df.info()"
   ]
  },
  {
   "cell_type": "markdown",
   "metadata": {},
   "source": [
    "- From the above information we can clearly see some missing values "
   ]
  },
  {
   "cell_type": "code",
   "execution_count": 48,
   "metadata": {},
   "outputs": [
    {
     "data": {
      "text/plain": [
       "Duration    0\n",
       "Date        1\n",
       "Pulse       0\n",
       "Maxpulse    0\n",
       "Calories    2\n",
       "dtype: int64"
      ]
     },
     "execution_count": 48,
     "metadata": {},
     "output_type": "execute_result"
    }
   ],
   "source": [
    "# Checking for missing values for each columns\n",
    "\n",
    "df.isnull().sum()"
   ]
  },
  {
   "cell_type": "code",
   "execution_count": 49,
   "metadata": {},
   "outputs": [
    {
     "data": {
      "text/plain": [
       "Duration    0.000\n",
       "Date        3.125\n",
       "Pulse       0.000\n",
       "Maxpulse    0.000\n",
       "Calories    6.250\n",
       "dtype: float64"
      ]
     },
     "execution_count": 49,
     "metadata": {},
     "output_type": "execute_result"
    }
   ],
   "source": [
    "# Check for percentage of missing values\n",
    "\n",
    "(df.isnull().sum()/len(df))*100"
   ]
  },
  {
   "cell_type": "code",
   "execution_count": 56,
   "metadata": {},
   "outputs": [
    {
     "data": {
      "text/plain": [
       "Duration    0\n",
       "Date        0\n",
       "Pulse       0\n",
       "Maxpulse    0\n",
       "Calories    0\n",
       "dtype: int64"
      ]
     },
     "execution_count": 56,
     "metadata": {},
     "output_type": "execute_result"
    }
   ],
   "source": [
    "# As the percentage is less we can replace the missing values with mean/median/mode\n",
    "\n",
    "# Identify columns with missing values\n",
    "missing_value_columns = df.columns[df.isnull().sum() > 0]\n",
    "\n",
    "# Loop through the identified columns and replace NaN values with the mean of the column\n",
    "for column in missing_value_columns:\n",
    "    if df[column].dtype in ['float64', 'int64', 'datetime64[ns]']:  # Ensure column is numeric or date time\n",
    "        # df[column].fillna(df[column].mean(), inplace=True) # Replacing with mean\n",
    "        df[column] = df[column].fillna(df[column].median()) # Replacing with median\n",
    "\n",
    "    else:\n",
    "        print(column)\n",
    "        df[column] = df[column].fillna(df[column].mode()) # Replacing with mode for object type columns\n",
    "\n",
    "df.isnull().sum()"
   ]
  },
  {
   "cell_type": "code",
   "execution_count": null,
   "metadata": {},
   "outputs": [],
   "source": []
  }
 ],
 "metadata": {
  "kernelspec": {
   "display_name": "ai_bank-env",
   "language": "python",
   "name": "python3"
  },
  "language_info": {
   "codemirror_mode": {
    "name": "ipython",
    "version": 3
   },
   "file_extension": ".py",
   "mimetype": "text/x-python",
   "name": "python",
   "nbconvert_exporter": "python",
   "pygments_lexer": "ipython3",
   "version": "3.11.9"
  }
 },
 "nbformat": 4,
 "nbformat_minor": 2
}
